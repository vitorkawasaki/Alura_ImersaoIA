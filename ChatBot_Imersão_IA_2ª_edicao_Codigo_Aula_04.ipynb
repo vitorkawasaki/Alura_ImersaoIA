{
  "cells": [
    {
      "cell_type": "markdown",
      "metadata": {
        "id": "view-in-github",
        "colab_type": "text"
      },
      "source": [
        "<a href=\"https://colab.research.google.com/github/vitorkawasaki/Alura_ImersaoIA/blob/main/ChatBot_Imers%C3%A3o_IA_2%C2%AA_edicao_Codigo_Aula_04.ipynb\" target=\"_parent\"><img src=\"https://colab.research.google.com/assets/colab-badge.svg\" alt=\"Open In Colab\"/></a>"
      ]
    },
    {
      "cell_type": "markdown",
      "source": [
        "# Imersão IA 2ª.Edição\n",
        "\n",
        "Nome: Vitor Kawasaki"
      ],
      "metadata": {
        "id": "Zx2PS8AeaYbI"
      }
    },
    {
      "cell_type": "markdown",
      "source": [
        "##Instalando SDK"
      ],
      "metadata": {
        "id": "aXnLQwHQbW1e"
      }
    },
    {
      "cell_type": "code",
      "execution_count": null,
      "metadata": {
        "id": "nFQLKQ6hfXch"
      },
      "outputs": [],
      "source": [
        "#Instalando o SDK do Google\n",
        "!pip install -q -U google-generativeai"
      ]
    },
    {
      "cell_type": "markdown",
      "source": [
        "##API Key"
      ],
      "metadata": {
        "id": "1ZO6j_zPbgXW"
      }
    },
    {
      "cell_type": "code",
      "execution_count": 27,
      "metadata": {
        "id": "IthzwfnAfcsi"
      },
      "outputs": [],
      "source": [
        "#Configurações iniciais\n",
        "import google.generativeai as genai\n",
        "\n",
        "from google.colab import userdata\n",
        "api_key = userdata.get('SECRET_KEY')\n",
        "\n",
        "genai.configure(api_key=api_key)"
      ]
    },
    {
      "cell_type": "code",
      "execution_count": null,
      "metadata": {
        "colab": {
          "base_uri": "https://localhost:8080/",
          "height": 139
        },
        "id": "iD3ihugymWBt",
        "outputId": "61ec2160-16fc-4da8-a7c5-89bc68304f2e"
      },
      "outputs": [
        {
          "output_type": "stream",
          "name": "stdout",
          "text": [
            "models/gemini-1.0-pro\n",
            "models/gemini-1.0-pro-001\n",
            "models/gemini-1.0-pro-latest\n",
            "models/gemini-1.0-pro-vision-latest\n",
            "models/gemini-1.5-pro-latest\n",
            "models/gemini-pro\n",
            "models/gemini-pro-vision\n"
          ]
        }
      ],
      "source": [
        "#Listando os modelos disponíveis\n",
        "for m in genai.list_models():\n",
        "  if 'generateContent' in m.supported_generation_methods:\n",
        "    print(m.name)"
      ]
    },
    {
      "cell_type": "markdown",
      "source": [
        ">Gemini 1.0 Pro - mais estável\n",
        "\n",
        ">Gemini 1.0 Pro 001 - Versão experimental\n",
        "\n",
        ">Gemini 1.0 Pro Latest - última versão experimental do modelo (atalho)\n",
        "\n",
        ">Gemini 1.0 Pro Vision Latest - A última versão de video, foto e mídia (atalho)\n",
        "\n",
        ">Gemini 1.5 Pro Latest - última versão do 1.5\n",
        "Tem a maior complexidade, contexto, mas no estado atual não tem acesso a customização\n",
        "\n",
        ">Gemini Pro Vision - versão estável\n",
        "\n",
        "* Pro seria texto\n",
        "* Vision seria foto, video, áudio\n"
      ],
      "metadata": {
        "id": "LpeCGM_jeKKm"
      }
    },
    {
      "cell_type": "markdown",
      "source": [
        "##Customização"
      ],
      "metadata": {
        "id": "5M7XwbNog4zs"
      }
    },
    {
      "cell_type": "code",
      "execution_count": null,
      "metadata": {
        "id": "O1ochaeyDn_o"
      },
      "outputs": [],
      "source": [
        "# não importa a ordem dessa parte organizacional.\n",
        "\n",
        "# candidate_count - quantidade de resposta que deseja\n",
        "# temperature - De 0 a 1. Parâmetro e quanto maior mais criativo e quanto menor mais fiel.\n",
        "# tem também o   \"top_p\": e o \"top_k\":\n",
        "\n",
        "generation_config = {\n",
        "  \"candidate_count\": 1,\n",
        "  \"temperature\": 0.5,\n",
        "}"
      ]
    },
    {
      "cell_type": "markdown",
      "source": [
        "##Configuração de Segurança"
      ],
      "metadata": {
        "id": "vnSwlTa8gQbE"
      }
    },
    {
      "cell_type": "code",
      "execution_count": null,
      "metadata": {
        "id": "jwBv7DofDofw"
      },
      "outputs": [],
      "source": [
        "# seria um dicionário\n",
        "# assédio, ódio, explicito sexualmente, perigoso\n",
        "\n",
        "safety_settings = {\n",
        "    'HATE': 'BLOCK_NONE',\n",
        "    'HARASSMENT': 'BLOCK_NONE',\n",
        "    'SEXUAL' : 'BLOCK_NONE',\n",
        "    'DANGEROUS' : 'BLOCK_NONE'\n",
        "    }"
      ]
    },
    {
      "cell_type": "markdown",
      "source": [
        "##Inicializar o Modelo Generativo"
      ],
      "metadata": {
        "id": "sSeCyTVScL_m"
      }
    },
    {
      "cell_type": "code",
      "execution_count": null,
      "metadata": {
        "id": "NIiSs1R5mVJE"
      },
      "outputs": [],
      "source": [
        "# primeiro é o parâmetro e depois é o nome utilizado, no caso foi usado o mesmo nome\n",
        "# generation_config = nome_configuracao\n",
        "model = genai.GenerativeModel(model_name = 'gemini-1.0-pro',\n",
        "                                  generation_config = generation_config,\n",
        "                                  safety_settings = safety_settings,)"
      ]
    },
    {
      "cell_type": "markdown",
      "source": [
        "##Gerar texto"
      ],
      "metadata": {
        "id": "d2PdDDapcSE-"
      }
    },
    {
      "cell_type": "code",
      "execution_count": null,
      "metadata": {
        "colab": {
          "base_uri": "https://localhost:8080/",
          "height": 729
        },
        "id": "vrRjhT2rlrU_",
        "outputId": "f7a5e778-d896-45f0-8ef3-20047592d358"
      },
      "outputs": [
        {
          "output_type": "stream",
          "name": "stdout",
          "text": [
            "**Dicas para Estudar IA no Google:**\n",
            "\n",
            "**1. Aproveite os Cursos Online:**\n",
            "* Coursera: Especialização em Aprendizado de Máquina do Google\n",
            "* edX: Curso de Inteligência Artificial do Google\n",
            "* Udacity: Nanodegree em Inteligência Artificial do Google\n",
            "\n",
            "**2. Use o TensorFlow:**\n",
            "* TensorFlow é a estrutura de código aberto do Google para IA.\n",
            "* Acesse tutoriais e documentação para aprender a usá-lo.\n",
            "* Participe de fóruns e comunidades do TensorFlow para obter ajuda.\n",
            "\n",
            "**3. Explore o Google AI Platform:**\n",
            "* Esta plataforma oferece uma variedade de serviços de IA, incluindo:\n",
            "    * AutoML: Ferramentas fáceis de usar para criar modelos de IA personalizados.\n",
            "    * Cloud TPU: Unidades de processamento de tensor para treinamento rápido de IA.\n",
            "    * BigQuery ML: Análise de dados de IA em escala.\n",
            "\n",
            "**4. Participe de Comunidades:**\n",
            "* Junte-se ao grupo do Google AI no LinkedIn.\n",
            "* Siga o Google AI no Twitter (@GoogleAI).\n",
            "* Participe de eventos e conferências do Google AI.\n",
            "\n",
            "**5. Leia Pesquisas e Publicações:**\n",
            "* Acesse o Google AI Blog para as últimas notícias e pesquisas.\n",
            "* Leia artigos de pesquisa publicados por pesquisadores do Google AI.\n",
            "* Participe de webinars e palestras sobre IA do Google.\n",
            "\n",
            "**6. Construa Projetos:**\n",
            "* Pratique seus conhecimentos de IA construindo projetos.\n",
            "* Use conjuntos de dados públicos ou crie os seus próprios.\n",
            "* Compartilhe seus projetos em plataformas como o GitHub.\n",
            "\n",
            "**7. Conecte-se com Especialistas:**\n",
            "* Conecte-se com pesquisadores e engenheiros do Google AI no LinkedIn.\n",
            "* Participe de discussões em fóruns e comunidades de IA.\n",
            "* Participe de mentoria ou programas de estágio do Google AI.\n",
            "\n",
            "**8. Mantenha-se Atualizado:**\n",
            "* A IA está evoluindo rapidamente.\n",
            "* Fique atualizado com as últimas tendências e desenvolvimentos lendo blogs, artigos e participando de eventos da indústria.\n"
          ]
        }
      ],
      "source": [
        "# retorno recebe gera o conteúdo\n",
        "response = model.generate_content(\"Vamos estudar IA no Google. Me dê dicas\")\n",
        "print(response.text)"
      ]
    },
    {
      "cell_type": "markdown",
      "source": [
        "##Criar Chat"
      ],
      "metadata": {
        "id": "XxcmFg51hzUb"
      }
    },
    {
      "cell_type": "code",
      "execution_count": null,
      "metadata": {
        "id": "KpaQ6hm5f2_J"
      },
      "outputs": [],
      "source": [
        "# [] lista vazia\n",
        "chat = model.start_chat(history=[])"
      ]
    },
    {
      "cell_type": "code",
      "source": [
        "print(\"Digite 'fim' para finalizar o chat\")\n",
        "prompt = input('Esperando prompt: ')\n",
        "\n",
        "while prompt != \"fim\":\n",
        "  response = chat.send_message(prompt)\n",
        "  print(\"Resposta:\", response.text, '\\n\\n')\n",
        "  print(\"Digite 'fim' para finalizar o chat\")\n",
        "  prompt = input('Esperando prompt: ')"
      ],
      "metadata": {
        "colab": {
          "base_uri": "https://localhost:8080/",
          "height": 1000
        },
        "id": "KzrkcYJtiMEr",
        "outputId": "2f8b2466-7c72-45ac-a261-4e32210ba0d8"
      },
      "execution_count": null,
      "outputs": [
        {
          "name": "stdout",
          "output_type": "stream",
          "text": [
            "Digite 'fim' para finalizar o chat\n",
            "Esperando prompt: Qual a capital do Japão?\n",
            "Resposta: **Tóquio** \n",
            "\n",
            "\n",
            "Digite 'fim' para finalizar o chat\n",
            "Esperando prompt: Qual é a comida típica?\n",
            "Resposta: **Sushi** \n",
            "\n",
            "\n",
            "Digite 'fim' para finalizar o chat\n",
            "Esperando prompt: Qual a população dessa cidade?\n",
            "Resposta: **Tóquio** tem uma população de aproximadamente **13,96 milhões de habitantes** (estimativa de 2023). \n",
            "\n",
            "\n",
            "Digite 'fim' para finalizar o chat\n",
            "Esperando prompt: Qual a porcentagem de crianças, jovens, adultos e idosos?\n",
            "Resposta: De acordo com dados de 2021 do Governo Metropolitano de Tóquio:\n",
            "\n",
            "* **Crianças (0-14 anos):** 11,5%\n",
            "* **Jovens (15-24 anos):** 9,1%\n",
            "* **Adultos (25-64 anos):** 63,4%\n",
            "* **Idosos (65 anos ou mais):** 16,0%\n",
            "\n",
            "Isso significa que a maioria da população de Tóquio (63,4%) está na faixa etária adulta, seguida pelos idosos (16,0%), crianças (11,5%) e jovens (9,1%). \n",
            "\n",
            "\n",
            "Digite 'fim' para finalizar o chat\n",
            "Esperando prompt: e qual a porcentagem de homens e mulheres em cada uma das faixas etárias?\n",
            "Resposta: **Porcentagem de Homens e Mulheres em Cada Faixa Etária em Tóquio (2021)**\n",
            "\n",
            "| Faixa Etária | Homens | Mulheres |\n",
            "|---|---|---|\n",
            "| Crianças (0-14 anos) | 51,4% | 48,6% |\n",
            "| Jovens (15-24 anos) | 52,1% | 47,9% |\n",
            "| Adultos (25-64 anos) | 51,7% | 48,3% |\n",
            "| Idosos (65 anos ou mais) | 46,9% | 53,1% |\n",
            "\n",
            "Em todas as faixas etárias, a porcentagem de homens é ligeiramente maior do que a de mulheres, exceto entre os idosos, onde a porcentagem de mulheres é maior. \n",
            "\n",
            "\n",
            "Digite 'fim' para finalizar o chat\n",
            "Esperando prompt: Qual a taxa de natalidade?\n",
            "Resposta: A taxa de natalidade em Tóquio em 2022 foi de **5,9 nascimentos por 1.000 habitantes**.\n",
            "\n",
            "Esta taxa é ligeiramente inferior à taxa de natalidade média do Japão, que foi de 7,4 nascimentos por 1.000 habitantes em 2022.\n",
            "\n",
            "A baixa taxa de natalidade em Tóquio é atribuída a vários fatores, incluindo:\n",
            "\n",
            "* Altos custos de moradia e educação\n",
            "* Longas horas de trabalho\n",
            "* Falta de apoio governamental para famílias com crianças\n",
            "* Normas culturais que desencorajam as mulheres de ter muitos filhos\n",
            "\n",
            "O governo japonês está preocupado com a baixa taxa de natalidade, pois pode levar a uma população em declínio e a uma escassez de mão de obra no futuro. O governo implementou várias políticas para incentivar as pessoas a ter mais filhos, como subsídios para cuidados infantis e licença parental remunerada. No entanto, ainda não está claro se essas políticas serão eficazes para aumentar a taxa de natalidade. \n",
            "\n",
            "\n",
            "Digite 'fim' para finalizar o chat\n",
            "Esperando prompt: fim\n"
          ]
        }
      ]
    },
    {
      "cell_type": "code",
      "execution_count": null,
      "metadata": {
        "id": "XLAniTTDhHNW",
        "colab": {
          "base_uri": "https://localhost:8080/"
        },
        "outputId": "f7c337e2-d6f7-478d-a47b-264eff47a74f"
      },
      "outputs": [
        {
          "output_type": "execute_result",
          "data": {
            "text/plain": [
              "ChatSession(\n",
              "    model=genai.GenerativeModel(\n",
              "        model_name='models/gemini-1.0-pro',\n",
              "        generation_config={'candidate_count': 1, 'temperature': 0.5},\n",
              "        safety_settings={<HarmCategory.HARM_CATEGORY_HATE_SPEECH: 8>: <HarmBlockThreshold.BLOCK_NONE: 4>, <HarmCategory.HARM_CATEGORY_HARASSMENT: 7>: <HarmBlockThreshold.BLOCK_NONE: 4>, <HarmCategory.HARM_CATEGORY_SEXUALLY_EXPLICIT: 9>: <HarmBlockThreshold.BLOCK_NONE: 4>, <HarmCategory.HARM_CATEGORY_DANGEROUS_CONTENT: 10>: <HarmBlockThreshold.BLOCK_NONE: 4>},\n",
              "        tools=None,\n",
              "        system_instruction=None,\n",
              "    ),\n",
              "    history=[glm.Content({'parts': [{'text': 'o que é ia'}], 'role': 'user'}), glm.Content({'parts': [{'text': '**Inteligênc...a tecnologia.'}], 'role': 'model'}), glm.Content({'parts': [{'text': 'como se diz ...dia em ingles'}], 'role': 'user'}), glm.Content({'parts': [{'text': '**Bom dia** ...dia a todos!)'}], 'role': 'model'}), glm.Content({'parts': [{'text': 'vc sabe a previsao do tempo?'}], 'role': 'user'}), glm.Content({'parts': [{'text': 'Não tenho ac...mais recente.'}], 'role': 'model'}), glm.Content({'parts': [{'text': 'o que significa IA?'}], 'role': 'user'}), glm.Content({'parts': [{'text': '**IA** signi...egulamentação'}], 'role': 'model'}), glm.Content({'parts': [{'text': 'Qual a capital do Japão?'}], 'role': 'user'}), glm.Content({'parts': [{'text': '**Tóquio**'}], 'role': 'model'}), glm.Content({'parts': [{'text': 'Qual é a comida típica?'}], 'role': 'user'}), glm.Content({'parts': [{'text': '**Sushi**'}], 'role': 'model'}), glm.Content({'parts': [{'text': 'Qual a popul...dessa cidade?'}], 'role': 'user'}), glm.Content({'parts': [{'text': '**Tóquio** t...iva de 2023).'}], 'role': 'model'}), glm.Content({'parts': [{'text': 'Qual a porce...tos e idosos?'}], 'role': 'user'}), glm.Content({'parts': [{'text': 'De acordo co...ovens (9,1%).'}], 'role': 'model'}), glm.Content({'parts': [{'text': 'e qual a por...ixas etárias?'}], 'role': 'user'}), glm.Content({'parts': [{'text': '**Porcentage...eres é maior.'}], 'role': 'model'}), glm.Content({'parts': [{'text': 'Qual a taxa de natalidade?'}], 'role': 'user'}), glm.Content({'parts': [{'text': 'A taxa de na...e natalidade.'}], 'role': 'model'})]\n",
              ")"
            ]
          },
          "metadata": {},
          "execution_count": 19
        }
      ],
      "source": [
        "chat"
      ]
    },
    {
      "cell_type": "code",
      "execution_count": null,
      "metadata": {
        "id": "sd8mvW9KghTf",
        "colab": {
          "base_uri": "https://localhost:8080/"
        },
        "outputId": "a18f566d-fc79-4ead-d9f6-e36801d8ebdb"
      },
      "outputs": [
        {
          "output_type": "execute_result",
          "data": {
            "text/plain": [
              "[parts {\n",
              "   text: \"o que \\303\\251 ia\"\n",
              " }\n",
              " role: \"user\",\n",
              " parts {\n",
              "   text: \"**Intelig\\303\\252ncia Artificial (IA)**\\n\\nA Intelig\\303\\252ncia Artificial (IA) \\303\\251 um ramo da ci\\303\\252ncia da computa\\303\\247\\303\\243o que se concentra no desenvolvimento de sistemas de computador que podem executar tarefas que normalmente requerem intelig\\303\\252ncia humana, como:\\n\\n* **Aprendizado:** Capacidade de adquirir conhecimento e habilidades por meio da experi\\303\\252ncia.\\n* **Racioc\\303\\255nio:** Capacidade de usar o conhecimento para resolver problemas e tomar decis\\303\\265es.\\n* **Comunica\\303\\247\\303\\243o:** Capacidade de entender e gerar linguagem humana.\\n* **Percep\\303\\247\\303\\243o:** Capacidade de interpretar dados sensoriais, como imagens e sons.\\n* **Planejamento:** Capacidade de criar e executar planos de a\\303\\247\\303\\243o.\\n\\n**Tipos de IA**\\n\\nExistem v\\303\\241rios tipos de IA, incluindo:\\n\\n* **IA Fraca ou Estreita:** Projetada para executar tarefas espec\\303\\255ficas, como reconhecimento de fala ou tradu\\303\\247\\303\\243o de idiomas.\\n* **IA Geral:** Projetada para realizar uma ampla gama de tarefas cognitivas, como um ser humano.\\n* **IA Superinteligente:** Projetada para superar a intelig\\303\\252ncia humana em todos os aspectos.\\n\\n**Aplica\\303\\247\\303\\265es da IA**\\n\\nA IA tem uma ampla gama de aplica\\303\\247\\303\\265es, incluindo:\\n\\n* **Sa\\303\\272de:** Diagn\\303\\263stico de doen\\303\\247as, desenvolvimento de medicamentos e assist\\303\\252ncia rob\\303\\263tica cir\\303\\272rgica.\\n* **Finan\\303\\247as:** Detec\\303\\247\\303\\243o de fraudes, gerenciamento de investimentos e automa\\303\\247\\303\\243o de processos.\\n* **Transporte:** Ve\\303\\255culos aut\\303\\264nomos, otimiza\\303\\247\\303\\243o de rotas e gerenciamento de tr\\303\\241fego.\\n* **Varejo:** Recomenda\\303\\247\\303\\265es personalizadas, atendimento ao cliente e otimiza\\303\\247\\303\\243o da cadeia de suprimentos.\\n* **Entretenimento:** Gera\\303\\247\\303\\243o de conte\\303\\272do, personaliza\\303\\247\\303\\243o de experi\\303\\252ncias e jogos aprimorados.\\n\\n**Benef\\303\\255cios da IA**\\n\\nA IA oferece v\\303\\241rios benef\\303\\255cios, como:\\n\\n* **Automa\\303\\247\\303\\243o:** Liberta os humanos de tarefas repetitivas e demoradas.\\n* **Efici\\303\\252ncia:** Melhora a efici\\303\\252ncia e a produtividade em v\\303\\241rios setores.\\n* **Personaliza\\303\\247\\303\\243o:** Fornece experi\\303\\252ncias personalizadas e servi\\303\\247os sob medida.\\n* **Inova\\303\\247\\303\\243o:** Acelera o desenvolvimento de novas tecnologias e produtos.\\n* **Resolu\\303\\247\\303\\243o de problemas:** Ajuda a resolver problemas complexos e encontrar solu\\303\\247\\303\\265es inovadoras.\\n\\n**Desafios da IA**\\n\\nA IA tamb\\303\\251m apresenta alguns desafios, como:\\n\\n* **Preconceito:** Os sistemas de IA podem perpetuar preconceitos existentes em dados de treinamento.\\n* **Perda de empregos:** A automa\\303\\247\\303\\243o pode levar \\303\\240 perda de empregos em alguns setores.\\n* **Quest\\303\\265es \\303\\251ticas:** A IA levanta quest\\303\\265es \\303\\251ticas sobre privacidade, responsabilidade e uso indevido.\\n* **Regulamenta\\303\\247\\303\\243o:** A regulamenta\\303\\247\\303\\243o da IA ainda est\\303\\241 em desenvolvimento e pode ser desafiadora devido \\303\\240 natureza em constante evolu\\303\\247\\303\\243o da tecnologia.\"\n",
              " }\n",
              " role: \"model\",\n",
              " parts {\n",
              "   text: \"como se diz bom dia em ingles\"\n",
              " }\n",
              " role: \"user\",\n",
              " parts {\n",
              "   text: \"**Bom dia** em ingl\\303\\252s \\303\\251 **Good morning**.\\n\\n**Pron\\303\\272ncia:**\\n\\n* **Good:** \\\"gud\\\"\\n* **Morning:** \\\"morn-ing\\\"\\n\\n**Exemplo:**\\n\\n* \\\"Good morning, everyone!\\\" (Bom dia a todos!)\"\n",
              " }\n",
              " role: \"model\",\n",
              " parts {\n",
              "   text: \"vc sabe a previsao do tempo?\"\n",
              " }\n",
              " role: \"user\",\n",
              " parts {\n",
              "   text: \"N\\303\\243o tenho acesso a informa\\303\\247\\303\\265es em tempo real, incluindo previs\\303\\265es do tempo. Recomendo verificar um servi\\303\\247o meteorol\\303\\263gico confi\\303\\241vel para obter as informa\\303\\247\\303\\265es mais atualizadas.\\n\\nAqui est\\303\\243o alguns servi\\303\\247os meteorol\\303\\263gicos populares:\\n\\n* AccuWeather: https://www.accuweather.com/\\n* The Weather Channel: https://weather.com/\\n* Weather Underground: https://www.wunderground.com/\\n* National Weather Service (EUA): https://www.weather.gov/\\n\\nBasta inserir sua localiza\\303\\247\\303\\243o no site ou aplicativo para obter a previs\\303\\243o do tempo mais recente.\"\n",
              " }\n",
              " role: \"model\",\n",
              " parts {\n",
              "   text: \"o que significa IA?\"\n",
              " }\n",
              " role: \"user\",\n",
              " parts {\n",
              "   text: \"**IA** significa **Intelig\\303\\252ncia Artificial**.\\n\\n\\303\\211 um ramo da ci\\303\\252ncia da computa\\303\\247\\303\\243o que se concentra no desenvolvimento de sistemas de computador que podem executar tarefas que normalmente requerem intelig\\303\\252ncia humana, como:\\n\\n* Aprendizado\\n* Racioc\\303\\255nio\\n* Comunica\\303\\247\\303\\243o\\n* Percep\\303\\247\\303\\243o\\n* Planejamento\\n\\n**Tipos de IA**\\n\\n* **IA Fraca ou Estreita:** Projetada para executar tarefas espec\\303\\255ficas, como reconhecimento de fala ou tradu\\303\\247\\303\\243o de idiomas.\\n* **IA Geral:** Projetada para realizar uma ampla gama de tarefas cognitivas, como um ser humano.\\n* **IA Superinteligente:** Projetada para superar a intelig\\303\\252ncia humana em todos os aspectos.\\n\\n**Aplica\\303\\247\\303\\265es da IA**\\n\\nA IA tem uma ampla gama de aplica\\303\\247\\303\\265es, incluindo:\\n\\n* Sa\\303\\272de: Diagn\\303\\263stico de doen\\303\\247as, desenvolvimento de medicamentos e assist\\303\\252ncia rob\\303\\263tica cir\\303\\272rgica.\\n* Finan\\303\\247as: Detec\\303\\247\\303\\243o de fraudes, gerenciamento de investimentos e automa\\303\\247\\303\\243o de processos.\\n* Transporte: Ve\\303\\255culos aut\\303\\264nomos, otimiza\\303\\247\\303\\243o de rotas e gerenciamento de tr\\303\\241fego.\\n* Varejo: Recomenda\\303\\247\\303\\265es personalizadas, atendimento ao cliente e otimiza\\303\\247\\303\\243o da cadeia de suprimentos.\\n* Entretenimento: Gera\\303\\247\\303\\243o de conte\\303\\272do, personaliza\\303\\247\\303\\243o de experi\\303\\252ncias e jogos aprimorados.\\n\\n**Benef\\303\\255cios da IA**\\n\\n* Automa\\303\\247\\303\\243o\\n* Efici\\303\\252ncia\\n* Personaliza\\303\\247\\303\\243o\\n* Inova\\303\\247\\303\\243o\\n* Resolu\\303\\247\\303\\243o de problemas\\n\\n**Desafios da IA**\\n\\n* Preconceito\\n* Perda de empregos\\n* Quest\\303\\265es \\303\\251ticas\\n* Regulamenta\\303\\247\\303\\243o\"\n",
              " }\n",
              " role: \"model\",\n",
              " parts {\n",
              "   text: \"Qual a capital do Jap\\303\\243o?\"\n",
              " }\n",
              " role: \"user\",\n",
              " parts {\n",
              "   text: \"**T\\303\\263quio**\"\n",
              " }\n",
              " role: \"model\",\n",
              " parts {\n",
              "   text: \"Qual \\303\\251 a comida t\\303\\255pica?\"\n",
              " }\n",
              " role: \"user\",\n",
              " parts {\n",
              "   text: \"**Sushi**\"\n",
              " }\n",
              " role: \"model\",\n",
              " parts {\n",
              "   text: \"Qual a popula\\303\\247\\303\\243o dessa cidade?\"\n",
              " }\n",
              " role: \"user\",\n",
              " parts {\n",
              "   text: \"**T\\303\\263quio** tem uma popula\\303\\247\\303\\243o de aproximadamente **13,96 milh\\303\\265es de habitantes** (estimativa de 2023).\"\n",
              " }\n",
              " role: \"model\",\n",
              " parts {\n",
              "   text: \"Qual a porcentagem de crian\\303\\247as, jovens, adultos e idosos?\"\n",
              " }\n",
              " role: \"user\",\n",
              " parts {\n",
              "   text: \"De acordo com dados de 2021 do Governo Metropolitano de T\\303\\263quio:\\n\\n* **Crian\\303\\247as (0-14 anos):** 11,5%\\n* **Jovens (15-24 anos):** 9,1%\\n* **Adultos (25-64 anos):** 63,4%\\n* **Idosos (65 anos ou mais):** 16,0%\\n\\nIsso significa que a maioria da popula\\303\\247\\303\\243o de T\\303\\263quio (63,4%) est\\303\\241 na faixa et\\303\\241ria adulta, seguida pelos idosos (16,0%), crian\\303\\247as (11,5%) e jovens (9,1%).\"\n",
              " }\n",
              " role: \"model\",\n",
              " parts {\n",
              "   text: \"e qual a porcentagem de homens e mulheres em cada uma das faixas et\\303\\241rias?\"\n",
              " }\n",
              " role: \"user\",\n",
              " parts {\n",
              "   text: \"**Porcentagem de Homens e Mulheres em Cada Faixa Et\\303\\241ria em T\\303\\263quio (2021)**\\n\\n| Faixa Et\\303\\241ria | Homens | Mulheres |\\n|---|---|---|\\n| Crian\\303\\247as (0-14 anos) | 51,4% | 48,6% |\\n| Jovens (15-24 anos) | 52,1% | 47,9% |\\n| Adultos (25-64 anos) | 51,7% | 48,3% |\\n| Idosos (65 anos ou mais) | 46,9% | 53,1% |\\n\\nEm todas as faixas et\\303\\241rias, a porcentagem de homens \\303\\251 ligeiramente maior do que a de mulheres, exceto entre os idosos, onde a porcentagem de mulheres \\303\\251 maior.\"\n",
              " }\n",
              " role: \"model\",\n",
              " parts {\n",
              "   text: \"Qual a taxa de natalidade?\"\n",
              " }\n",
              " role: \"user\",\n",
              " parts {\n",
              "   text: \"A taxa de natalidade em T\\303\\263quio em 2022 foi de **5,9 nascimentos por 1.000 habitantes**.\\n\\nEsta taxa \\303\\251 ligeiramente inferior \\303\\240 taxa de natalidade m\\303\\251dia do Jap\\303\\243o, que foi de 7,4 nascimentos por 1.000 habitantes em 2022.\\n\\nA baixa taxa de natalidade em T\\303\\263quio \\303\\251 atribu\\303\\255da a v\\303\\241rios fatores, incluindo:\\n\\n* Altos custos de moradia e educa\\303\\247\\303\\243o\\n* Longas horas de trabalho\\n* Falta de apoio governamental para fam\\303\\255lias com crian\\303\\247as\\n* Normas culturais que desencorajam as mulheres de ter muitos filhos\\n\\nO governo japon\\303\\252s est\\303\\241 preocupado com a baixa taxa de natalidade, pois pode levar a uma popula\\303\\247\\303\\243o em decl\\303\\255nio e a uma escassez de m\\303\\243o de obra no futuro. O governo implementou v\\303\\241rias pol\\303\\255ticas para incentivar as pessoas a ter mais filhos, como subs\\303\\255dios para cuidados infantis e licen\\303\\247a parental remunerada. No entanto, ainda n\\303\\243o est\\303\\241 claro se essas pol\\303\\255ticas ser\\303\\243o eficazes para aumentar a taxa de natalidade.\"\n",
              " }\n",
              " role: \"model\"]"
            ]
          },
          "metadata": {},
          "execution_count": 20
        }
      ],
      "source": [
        "chat.history"
      ]
    },
    {
      "cell_type": "code",
      "execution_count": null,
      "metadata": {
        "id": "dAcbPBocgzeX",
        "colab": {
          "base_uri": "https://localhost:8080/",
          "height": 1000
        },
        "outputId": "30b52e8b-83d5-4ece-a4d5-887298ea1dcd"
      },
      "outputs": [
        {
          "output_type": "display_data",
          "data": {
            "text/plain": [
              "<IPython.core.display.Markdown object>"
            ],
            "text/markdown": "> **user**: o que é ia"
          },
          "metadata": {}
        },
        {
          "output_type": "stream",
          "name": "stdout",
          "text": [
            "-------------------------------------------\n"
          ]
        },
        {
          "output_type": "display_data",
          "data": {
            "text/plain": [
              "<IPython.core.display.Markdown object>"
            ],
            "text/markdown": "> **model**: **Inteligência Artificial (IA)**\n> \n> A Inteligência Artificial (IA) é um ramo da ciência da computação que se concentra no desenvolvimento de sistemas de computador que podem executar tarefas que normalmente requerem inteligência humana, como:\n> \n> * **Aprendizado:** Capacidade de adquirir conhecimento e habilidades por meio da experiência.\n> * **Raciocínio:** Capacidade de usar o conhecimento para resolver problemas e tomar decisões.\n> * **Comunicação:** Capacidade de entender e gerar linguagem humana.\n> * **Percepção:** Capacidade de interpretar dados sensoriais, como imagens e sons.\n> * **Planejamento:** Capacidade de criar e executar planos de ação.\n> \n> **Tipos de IA**\n> \n> Existem vários tipos de IA, incluindo:\n> \n> * **IA Fraca ou Estreita:** Projetada para executar tarefas específicas, como reconhecimento de fala ou tradução de idiomas.\n> * **IA Geral:** Projetada para realizar uma ampla gama de tarefas cognitivas, como um ser humano.\n> * **IA Superinteligente:** Projetada para superar a inteligência humana em todos os aspectos.\n> \n> **Aplicações da IA**\n> \n> A IA tem uma ampla gama de aplicações, incluindo:\n> \n> * **Saúde:** Diagnóstico de doenças, desenvolvimento de medicamentos e assistência robótica cirúrgica.\n> * **Finanças:** Detecção de fraudes, gerenciamento de investimentos e automação de processos.\n> * **Transporte:** Veículos autônomos, otimização de rotas e gerenciamento de tráfego.\n> * **Varejo:** Recomendações personalizadas, atendimento ao cliente e otimização da cadeia de suprimentos.\n> * **Entretenimento:** Geração de conteúdo, personalização de experiências e jogos aprimorados.\n> \n> **Benefícios da IA**\n> \n> A IA oferece vários benefícios, como:\n> \n> * **Automação:** Liberta os humanos de tarefas repetitivas e demoradas.\n> * **Eficiência:** Melhora a eficiência e a produtividade em vários setores.\n> * **Personalização:** Fornece experiências personalizadas e serviços sob medida.\n> * **Inovação:** Acelera o desenvolvimento de novas tecnologias e produtos.\n> * **Resolução de problemas:** Ajuda a resolver problemas complexos e encontrar soluções inovadoras.\n> \n> **Desafios da IA**\n> \n> A IA também apresenta alguns desafios, como:\n> \n> * **Preconceito:** Os sistemas de IA podem perpetuar preconceitos existentes em dados de treinamento.\n> * **Perda de empregos:** A automação pode levar à perda de empregos em alguns setores.\n> * **Questões éticas:** A IA levanta questões éticas sobre privacidade, responsabilidade e uso indevido.\n> * **Regulamentação:** A regulamentação da IA ainda está em desenvolvimento e pode ser desafiadora devido à natureza em constante evolução da tecnologia."
          },
          "metadata": {}
        },
        {
          "output_type": "stream",
          "name": "stdout",
          "text": [
            "-------------------------------------------\n"
          ]
        },
        {
          "output_type": "display_data",
          "data": {
            "text/plain": [
              "<IPython.core.display.Markdown object>"
            ],
            "text/markdown": "> **user**: como se diz bom dia em ingles"
          },
          "metadata": {}
        },
        {
          "output_type": "stream",
          "name": "stdout",
          "text": [
            "-------------------------------------------\n"
          ]
        },
        {
          "output_type": "display_data",
          "data": {
            "text/plain": [
              "<IPython.core.display.Markdown object>"
            ],
            "text/markdown": "> **model**: **Bom dia** em inglês é **Good morning**.\n> \n> **Pronúncia:**\n> \n> * **Good:** \"gud\"\n> * **Morning:** \"morn-ing\"\n> \n> **Exemplo:**\n> \n> * \"Good morning, everyone!\" (Bom dia a todos!)"
          },
          "metadata": {}
        },
        {
          "output_type": "stream",
          "name": "stdout",
          "text": [
            "-------------------------------------------\n"
          ]
        },
        {
          "output_type": "display_data",
          "data": {
            "text/plain": [
              "<IPython.core.display.Markdown object>"
            ],
            "text/markdown": "> **user**: vc sabe a previsao do tempo?"
          },
          "metadata": {}
        },
        {
          "output_type": "stream",
          "name": "stdout",
          "text": [
            "-------------------------------------------\n"
          ]
        },
        {
          "output_type": "display_data",
          "data": {
            "text/plain": [
              "<IPython.core.display.Markdown object>"
            ],
            "text/markdown": "> **model**: Não tenho acesso a informações em tempo real, incluindo previsões do tempo. Recomendo verificar um serviço meteorológico confiável para obter as informações mais atualizadas.\n> \n> Aqui estão alguns serviços meteorológicos populares:\n> \n> * AccuWeather: https://www.accuweather.com/\n> * The Weather Channel: https://weather.com/\n> * Weather Underground: https://www.wunderground.com/\n> * National Weather Service (EUA): https://www.weather.gov/\n> \n> Basta inserir sua localização no site ou aplicativo para obter a previsão do tempo mais recente."
          },
          "metadata": {}
        },
        {
          "output_type": "stream",
          "name": "stdout",
          "text": [
            "-------------------------------------------\n"
          ]
        },
        {
          "output_type": "display_data",
          "data": {
            "text/plain": [
              "<IPython.core.display.Markdown object>"
            ],
            "text/markdown": "> **user**: o que significa IA?"
          },
          "metadata": {}
        },
        {
          "output_type": "stream",
          "name": "stdout",
          "text": [
            "-------------------------------------------\n"
          ]
        },
        {
          "output_type": "display_data",
          "data": {
            "text/plain": [
              "<IPython.core.display.Markdown object>"
            ],
            "text/markdown": "> **model**: **IA** significa **Inteligência Artificial**.\n> \n> É um ramo da ciência da computação que se concentra no desenvolvimento de sistemas de computador que podem executar tarefas que normalmente requerem inteligência humana, como:\n> \n> * Aprendizado\n> * Raciocínio\n> * Comunicação\n> * Percepção\n> * Planejamento\n> \n> **Tipos de IA**\n> \n> * **IA Fraca ou Estreita:** Projetada para executar tarefas específicas, como reconhecimento de fala ou tradução de idiomas.\n> * **IA Geral:** Projetada para realizar uma ampla gama de tarefas cognitivas, como um ser humano.\n> * **IA Superinteligente:** Projetada para superar a inteligência humana em todos os aspectos.\n> \n> **Aplicações da IA**\n> \n> A IA tem uma ampla gama de aplicações, incluindo:\n> \n> * Saúde: Diagnóstico de doenças, desenvolvimento de medicamentos e assistência robótica cirúrgica.\n> * Finanças: Detecção de fraudes, gerenciamento de investimentos e automação de processos.\n> * Transporte: Veículos autônomos, otimização de rotas e gerenciamento de tráfego.\n> * Varejo: Recomendações personalizadas, atendimento ao cliente e otimização da cadeia de suprimentos.\n> * Entretenimento: Geração de conteúdo, personalização de experiências e jogos aprimorados.\n> \n> **Benefícios da IA**\n> \n> * Automação\n> * Eficiência\n> * Personalização\n> * Inovação\n> * Resolução de problemas\n> \n> **Desafios da IA**\n> \n> * Preconceito\n> * Perda de empregos\n> * Questões éticas\n> * Regulamentação"
          },
          "metadata": {}
        },
        {
          "output_type": "stream",
          "name": "stdout",
          "text": [
            "-------------------------------------------\n"
          ]
        },
        {
          "output_type": "display_data",
          "data": {
            "text/plain": [
              "<IPython.core.display.Markdown object>"
            ],
            "text/markdown": "> **user**: Qual a capital do Japão?"
          },
          "metadata": {}
        },
        {
          "output_type": "stream",
          "name": "stdout",
          "text": [
            "-------------------------------------------\n"
          ]
        },
        {
          "output_type": "display_data",
          "data": {
            "text/plain": [
              "<IPython.core.display.Markdown object>"
            ],
            "text/markdown": "> **model**: **Tóquio**"
          },
          "metadata": {}
        },
        {
          "output_type": "stream",
          "name": "stdout",
          "text": [
            "-------------------------------------------\n"
          ]
        },
        {
          "output_type": "display_data",
          "data": {
            "text/plain": [
              "<IPython.core.display.Markdown object>"
            ],
            "text/markdown": "> **user**: Qual é a comida típica?"
          },
          "metadata": {}
        },
        {
          "output_type": "stream",
          "name": "stdout",
          "text": [
            "-------------------------------------------\n"
          ]
        },
        {
          "output_type": "display_data",
          "data": {
            "text/plain": [
              "<IPython.core.display.Markdown object>"
            ],
            "text/markdown": "> **model**: **Sushi**"
          },
          "metadata": {}
        },
        {
          "output_type": "stream",
          "name": "stdout",
          "text": [
            "-------------------------------------------\n"
          ]
        },
        {
          "output_type": "display_data",
          "data": {
            "text/plain": [
              "<IPython.core.display.Markdown object>"
            ],
            "text/markdown": "> **user**: Qual a população dessa cidade?"
          },
          "metadata": {}
        },
        {
          "output_type": "stream",
          "name": "stdout",
          "text": [
            "-------------------------------------------\n"
          ]
        },
        {
          "output_type": "display_data",
          "data": {
            "text/plain": [
              "<IPython.core.display.Markdown object>"
            ],
            "text/markdown": "> **model**: **Tóquio** tem uma população de aproximadamente **13,96 milhões de habitantes** (estimativa de 2023)."
          },
          "metadata": {}
        },
        {
          "output_type": "stream",
          "name": "stdout",
          "text": [
            "-------------------------------------------\n"
          ]
        },
        {
          "output_type": "display_data",
          "data": {
            "text/plain": [
              "<IPython.core.display.Markdown object>"
            ],
            "text/markdown": "> **user**: Qual a porcentagem de crianças, jovens, adultos e idosos?"
          },
          "metadata": {}
        },
        {
          "output_type": "stream",
          "name": "stdout",
          "text": [
            "-------------------------------------------\n"
          ]
        },
        {
          "output_type": "display_data",
          "data": {
            "text/plain": [
              "<IPython.core.display.Markdown object>"
            ],
            "text/markdown": "> **model**: De acordo com dados de 2021 do Governo Metropolitano de Tóquio:\n> \n> * **Crianças (0-14 anos):** 11,5%\n> * **Jovens (15-24 anos):** 9,1%\n> * **Adultos (25-64 anos):** 63,4%\n> * **Idosos (65 anos ou mais):** 16,0%\n> \n> Isso significa que a maioria da população de Tóquio (63,4%) está na faixa etária adulta, seguida pelos idosos (16,0%), crianças (11,5%) e jovens (9,1%)."
          },
          "metadata": {}
        },
        {
          "output_type": "stream",
          "name": "stdout",
          "text": [
            "-------------------------------------------\n"
          ]
        },
        {
          "output_type": "display_data",
          "data": {
            "text/plain": [
              "<IPython.core.display.Markdown object>"
            ],
            "text/markdown": "> **user**: e qual a porcentagem de homens e mulheres em cada uma das faixas etárias?"
          },
          "metadata": {}
        },
        {
          "output_type": "stream",
          "name": "stdout",
          "text": [
            "-------------------------------------------\n"
          ]
        },
        {
          "output_type": "display_data",
          "data": {
            "text/plain": [
              "<IPython.core.display.Markdown object>"
            ],
            "text/markdown": "> **model**: **Porcentagem de Homens e Mulheres em Cada Faixa Etária em Tóquio (2021)**\n> \n> | Faixa Etária | Homens | Mulheres |\n> |---|---|---|\n> | Crianças (0-14 anos) | 51,4% | 48,6% |\n> | Jovens (15-24 anos) | 52,1% | 47,9% |\n> | Adultos (25-64 anos) | 51,7% | 48,3% |\n> | Idosos (65 anos ou mais) | 46,9% | 53,1% |\n> \n> Em todas as faixas etárias, a porcentagem de homens é ligeiramente maior do que a de mulheres, exceto entre os idosos, onde a porcentagem de mulheres é maior."
          },
          "metadata": {}
        },
        {
          "output_type": "stream",
          "name": "stdout",
          "text": [
            "-------------------------------------------\n"
          ]
        },
        {
          "output_type": "display_data",
          "data": {
            "text/plain": [
              "<IPython.core.display.Markdown object>"
            ],
            "text/markdown": "> **user**: Qual a taxa de natalidade?"
          },
          "metadata": {}
        },
        {
          "output_type": "stream",
          "name": "stdout",
          "text": [
            "-------------------------------------------\n"
          ]
        },
        {
          "output_type": "display_data",
          "data": {
            "text/plain": [
              "<IPython.core.display.Markdown object>"
            ],
            "text/markdown": "> **model**: A taxa de natalidade em Tóquio em 2022 foi de **5,9 nascimentos por 1.000 habitantes**.\n> \n> Esta taxa é ligeiramente inferior à taxa de natalidade média do Japão, que foi de 7,4 nascimentos por 1.000 habitantes em 2022.\n> \n> A baixa taxa de natalidade em Tóquio é atribuída a vários fatores, incluindo:\n> \n> * Altos custos de moradia e educação\n> * Longas horas de trabalho\n> * Falta de apoio governamental para famílias com crianças\n> * Normas culturais que desencorajam as mulheres de ter muitos filhos\n> \n> O governo japonês está preocupado com a baixa taxa de natalidade, pois pode levar a uma população em declínio e a uma escassez de mão de obra no futuro. O governo implementou várias políticas para incentivar as pessoas a ter mais filhos, como subsídios para cuidados infantis e licença parental remunerada. No entanto, ainda não está claro se essas políticas serão eficazes para aumentar a taxa de natalidade."
          },
          "metadata": {}
        },
        {
          "output_type": "stream",
          "name": "stdout",
          "text": [
            "-------------------------------------------\n"
          ]
        }
      ],
      "source": [
        "#Melhorando a visualização\n",
        "#Código disponível em https://ai.google.dev/tutorials/python_quickstart#import_packages\n",
        "import textwrap\n",
        "from IPython.display import display\n",
        "from IPython.display import Markdown\n",
        "\n",
        "def to_markdown(text):\n",
        "  text = text.replace('•', '  *')\n",
        "  return Markdown(textwrap.indent(text, '> ', predicate=lambda _: True))\n",
        "\n",
        "#Imprimindo o histórico\n",
        "for message in chat.history:\n",
        "  display(to_markdown(f'**{message.role}**: {message.parts[0].text}'))\n",
        "  print('-------------------------------------------')"
      ]
    }
  ],
  "metadata": {
    "colab": {
      "provenance": [],
      "include_colab_link": true
    },
    "kernelspec": {
      "display_name": "Python 3",
      "name": "python3"
    },
    "language_info": {
      "name": "python"
    }
  },
  "nbformat": 4,
  "nbformat_minor": 0
}